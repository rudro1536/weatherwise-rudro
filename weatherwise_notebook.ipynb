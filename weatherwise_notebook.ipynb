{
  "nbformat": 4,
  "nbformat_minor": 0,
  "metadata": {
    "colab": {
      "provenance": []
    },
    "kernelspec": {
      "name": "python3",
      "display_name": "Python 3"
    },
    "language_info": {
      "name": "python"
    }
  },
  "cells": [
    {
      "cell_type": "markdown",
      "metadata": {
        "id": "72e78a05"
      },
      "source": [
        "# 🌦️ WeatherWise – Built by Rudra\n",
        "\n",
        "Welcome to **WeatherWise**, a smart weather advisor app crafted by Rudra. This project leverages Python, data visualization, and AI tools to transform weather data into insightful and actionable guidance. Explore the power of intelligent forecasting with WeatherWise!\n"
      ]
    },
    {
      "cell_type": "markdown",
      "metadata": {
        "id": "fa8c7f6c"
      },
      "source": [
        "## 🧰 Setup and Imports\n"
      ]
    },
    {
      "cell_type": "code",
      "execution_count": null,
      "metadata": {
        "id": "70c3f3f1",
        "collapsed": true
      },
      "outputs": [],
      "source": [
        "# 🧪 Optional packages — uncomment if needed in Colab or JupyterHub\n",
        "!pip install fetch-my-weather\n",
        "!pip install hands-on-ai\n",
        "!pip install pyinputplus\n"
      ]
    },
    {
      "cell_type": "code",
      "source": [
        "import os\n",
        "\n",
        "os.environ['HANDS_ON_AI_SERVER'] = 'http://ollama.serveur.au'\n",
        "os.environ['HANDS_ON_AI_MODEL'] = 'granite3.2'\n",
        "os.environ['HANDS_ON_AI_API_KEY'] = input('Enter your API key: ')"
      ],
      "metadata": {
        "id": "B2JKlJfrGgIb"
      },
      "execution_count": null,
      "outputs": []
    },
    {
      "cell_type": "markdown",
      "metadata": {
        "id": "59ae7543"
      },
      "source": [
        "## 📦 Setup and Configuration\n"
      ]
    },
    {
      "cell_type": "code",
      "execution_count": null,
      "metadata": {
        "id": "f1dd051e"
      },
      "outputs": [],
      "source": [
        "import requests\n",
        "import matplotlib.pyplot as plt\n",
        "import pyinputplus as pyip\n",
        "import re\n",
        "import json\n",
        "# ✅ Import after installing\n",
        "from fetch_my_weather import get_weather\n",
        "from hands_on_ai.chat import get_response"
      ]
    },
    {
      "cell_type": "markdown",
      "metadata": {
        "id": "f736ade3"
      },
      "source": [
        "## 🌤️ Weather Data Functions"
      ]
    },
    {
      "cell_type": "code",
      "execution_count": null,
      "metadata": {
        "id": "7a2c7cd0"
      },
      "outputs": [],
      "source": [
        "# function to retrive weather data\n",
        "def get_weather_data(location, forecast_days=5):\n",
        "    \"\"\"\n",
        "    Retrieve weather data for a specified location.\n",
        "\n",
        "    Args:\n",
        "        location (str): City or location name\n",
        "        forecast_days (int): Number of days to forecast (1-5)\n",
        "\n",
        "    Returns:\n",
        "        dict: Weather data including current conditions and forecast, or an error message\n",
        "    \"\"\"\n",
        "    # Input validation\n",
        "    if not isinstance(location, str) or not location.strip():\n",
        "        return {\"error\": \"Invalid location. Please provide a non-empty city name.\"}\n",
        "    if not isinstance(forecast_days, int) or not (1 <= forecast_days <= 5):\n",
        "        return {\"error\": \"Forecast days must be an integer between 1 and 5.\"}\n",
        "\n",
        "    try:\n",
        "        weather = get_weather(location=location, view_options=str(forecast_days), with_metadata=False)\n",
        "        parsed_data = json.loads(weather.json())\n",
        "\n",
        "        current_condition = parsed_data.get(\"current_condition\", [{}])[0]\n",
        "        weather_forecast = parsed_data.get(\"weather\", [])[:forecast_days]\n",
        "\n",
        "        # Destructure and keep the relevent data from the response\n",
        "        result = {\n",
        "            \"location\": location.title(),\n",
        "            \"current\": {\n",
        "                \"temperature_C\": current_condition.get(\"temp_C\"),\n",
        "                \"weather_desc\": current_condition.get(\"weatherDesc\", [{}])[0].get(\"value\"),\n",
        "                \"humidity\": current_condition.get(\"humidity\"),\n",
        "                \"wind_kph\": current_condition.get(\"windspeedKmph\"),\n",
        "                \"feels_like_C\": current_condition.get(\"FeelsLikeC\")\n",
        "            },\n",
        "            \"forecast\": []\n",
        "        }\n",
        "\n",
        "        for day in weather_forecast:\n",
        "            result[\"forecast\"].append({\n",
        "                \"date\": day.get(\"date\"),\n",
        "                \"max_temp_C\": day.get(\"maxtempC\"),\n",
        "                \"max_temp_F\": day.get(\"maxtempF\"),\n",
        "                \"min_temp_C\": day.get(\"mintempC\"),\n",
        "                \"min_temp_F\": day.get(\"mintempF\"),\n",
        "                \"avg_temp_C\": day.get(\"avgtempC\"),\n",
        "                \"avg_temp_F\": day.get(\"avgtempF\"),\n",
        "                \"sun_hour\": day.get(\"sunHour\"),\n",
        "                \"total_Snow_cm\": day.get(\"totalSnow_cm\"),\n",
        "                \"uv_index\": day.get(\"uvIndex\"),\n",
        "                \"description\": day.get(\"hourly\", [{}])[0].get(\"weatherDesc\", [{}])[0].get(\"value\")\n",
        "            })\n",
        "\n",
        "        return result\n",
        "\n",
        "    except Exception as e:\n",
        "        return {\"error\": f\"Failed to retrieve weather data: {str(e)}\"}\n"
      ]
    },
    {
      "cell_type": "markdown",
      "metadata": {
        "id": "8a744fdc"
      },
      "source": [
        "## 📊 Visualisation Functions"
      ]
    },
    {
      "cell_type": "code",
      "execution_count": null,
      "metadata": {
        "id": "9dc3bf85"
      },
      "outputs": [],
      "source": [
        "def create_temperature_visualisation(weather_data, output_type='display'):\n",
        "    \"\"\"\n",
        "    Create visualisation of temperature data.\n",
        "\n",
        "    Args:\n",
        "        weather_data (dict): The processed weather data\n",
        "        output_type (str): Either 'display' to show in notebook or 'figure' to return the figure\n",
        "\n",
        "    Returns:\n",
        "        If output_type is 'figure', returns the matplotlib figure object\n",
        "        Otherwise, displays the visualisation in the notebook\n",
        "    \"\"\"\n",
        "    # Validate input\n",
        "    if 'forecast' not in weather_data:\n",
        "        raise ValueError(\"Missing 'forecast' key in weather_data\")\n",
        "\n",
        "    dates = [day[\"date\"] for day in weather_data[\"forecast\"]]\n",
        "    max_temps = [int(day[\"max_temp_C\"]) for day in weather_data[\"forecast\"]]\n",
        "    min_temps = [int(day[\"min_temp_C\"]) for day in weather_data[\"forecast\"]]\n",
        "    avg_temps = [int(day[\"avg_temp_C\"]) for day in weather_data[\"forecast\"]]\n",
        "\n",
        "    fig, ax = plt.subplots(figsize=(10, 6))\n",
        "\n",
        "    ax.plot(dates, max_temps, label='Max Temp (°C)', color='red', marker='o')\n",
        "    ax.plot(dates, min_temps, label='Min Temp (°C)', color='blue', marker='o')\n",
        "    ax.plot(dates, avg_temps, label='Avg Temp (°C)', color='green', marker='o')\n",
        "\n",
        "    ax.set_title(f\"Temperature Forecast for {weather_data.get('location', 'Unknown')}\")\n",
        "    ax.set_xlabel(\"Date\")\n",
        "    ax.set_ylabel(\"Temperature (°C)\")\n",
        "    ax.legend()\n",
        "    ax.grid(True)\n",
        "\n",
        "    plt.tight_layout()\n",
        "\n",
        "    if output_type == 'figure':\n",
        "        return fig\n",
        "    else:\n",
        "        plt.show()\n",
        "        return None\n"
      ]
    },
    {
      "cell_type": "code",
      "source": [
        "\n",
        "def create_precipitation_visualisation(weather_data, output_type='display'):\n",
        "    \"\"\"\n",
        "    Create visualisation of precipitation data.\n",
        "\n",
        "    Args:\n",
        "        weather_data (dict): The processed weather data\n",
        "        output_type (str): Either 'display' to show in notebook or 'figure' to return the figure\n",
        "\n",
        "    Returns:\n",
        "        If output_type is 'figure', returns the matplotlib figure object\n",
        "        Otherwise, displays the visualisation in the notebook\n",
        "    \"\"\"\n",
        "    # Validate input\n",
        "    if 'forecast' not in weather_data:\n",
        "        raise ValueError(\"Missing 'forecast' key in weather_data\")\n",
        "\n",
        "    dates = [day[\"date\"] for day in weather_data[\"forecast\"]]\n",
        "\n",
        "    total_precip_mm = []\n",
        "    for day in weather_data[\"forecast\"]:\n",
        "        day_precip = 0\n",
        "        if \"hourly\" in day:\n",
        "            for hour in day[\"hourly\"]:\n",
        "                try:\n",
        "                    day_precip += float(hour.get(\"precipMM\", 0))\n",
        "                except ValueError:\n",
        "                    day_precip += 0\n",
        "        total_precip_mm.append(round(day_precip, 1))\n",
        "\n",
        "    fig, ax = plt.subplots(figsize=(10, 6))\n",
        "\n",
        "    bars = ax.bar(dates, total_precip_mm, color='skyblue')\n",
        "    ax.set_title(f\"Precipitation Forecast for {weather_data.get('location', 'Unknown')}\")\n",
        "    ax.set_xlabel(\"Date\")\n",
        "    ax.set_ylabel(\"Total Precipitation (mm)\")\n",
        "    ax.grid(axis='y')\n",
        "\n",
        "    # Add values on top of bars\n",
        "    for bar in bars:\n",
        "        height = bar.get_height()\n",
        "        ax.annotate(f'{height:.1f}', xy=(bar.get_x() + bar.get_width() / 2, height),\n",
        "                    xytext=(0, 3), textcoords=\"offset points\",\n",
        "                    ha='center', va='bottom')\n",
        "\n",
        "    plt.tight_layout()\n",
        "\n",
        "    if output_type == 'figure':\n",
        "        return fig\n",
        "    else:\n",
        "        plt.show()\n",
        "        return None"
      ],
      "metadata": {
        "id": "HpOlQylYG5Ho"
      },
      "execution_count": null,
      "outputs": []
    },
    {
      "cell_type": "markdown",
      "metadata": {
        "id": "9f95d160"
      },
      "source": [
        "## 🤖 Natural Language Processing"
      ]
    },
    {
      "cell_type": "code",
      "execution_count": null,
      "metadata": {
        "id": "bcc5833e"
      },
      "outputs": [],
      "source": [
        "import spacy\n",
        "\n",
        "nlp = spacy.load(\"en_core_web_sm\")\n",
        "\n",
        "TIME_PERIODS = {\n",
        "    \"now\", \"right now\", \"currently\", \"today\", \"tonight\", \"this morning\", \"this afternoon\", \"this evening\",\n",
        "    \"tomorrow\", \"tomorrow morning\", \"tomorrow afternoon\", \"tomorrow evening\",\n",
        "    \"day after tomorrow\", \"the day after tomorrow\",\n",
        "    \"weekend\", \"this weekend\", \"next weekend\",\n",
        "    \"next week\", \"this week\",\n",
        "    \"next month\", \"this month\",\n",
        "    \"in an hour\", \"in 1 hour\", \"in 2 hours\", \"in 3 hours\",\n",
        "    \"hourly\", \"daily\", \"weekly\", \"monthly\"\n",
        "}\n",
        "\n",
        "WEATHER_ATTRIBUTES = {\n",
        "    \"temperature\", \"rain\", \"rainfall\", \"humidity\", \"wind\", \"wind speed\",\n",
        "    \"snow\", \"snowfall\", \"sunshine\", \"sun\", \"cloud\", \"cloudiness\", \"uv index\", \"pressure\"\n",
        "}\n",
        "\n",
        "def parse_weather_question(question):\n",
        "    \"\"\"\n",
        "    Parse a natural language weather question.\n",
        "\n",
        "    Args:\n",
        "        question (str): User's weather-related question\n",
        "\n",
        "    Returns:\n",
        "        dict: Extracted information including location, time period, and weather attribute\n",
        "    \"\"\"\n",
        "    question_lower = question.lower()\n",
        "    doc = nlp(question_lower)\n",
        "\n",
        "    locations = [ent.text for ent in doc.ents if ent.label_ == \"GPE\"]\n",
        "    time_periods = [tp for tp in TIME_PERIODS if tp in question_lower]\n",
        "    attributes = [attr for attr in WEATHER_ATTRIBUTES if attr in question_lower]\n",
        "\n",
        "    return {\n",
        "        \"locations\": locations,\n",
        "        \"time_periods\": time_periods,\n",
        "        \"weather_attributes\": attributes\n",
        "    }"
      ]
    },
    {
      "cell_type": "markdown",
      "metadata": {
        "id": "0d85225e"
      },
      "source": [
        "## 🧭 User Interface"
      ]
    },
    {
      "cell_type": "code",
      "execution_count": null,
      "metadata": {
        "id": "fa6cb0f6"
      },
      "outputs": [],
      "source": [
        "# Define menu functions using pyinputplus or ipywidgets here"
      ]
    },
    {
      "cell_type": "markdown",
      "metadata": {
        "id": "d643a53c"
      },
      "source": [
        "## 🧩 Main Application Logic"
      ]
    },
    {
      "cell_type": "code",
      "execution_count": null,
      "metadata": {
        "id": "a9e2e805"
      },
      "outputs": [],
      "source": [
        "# Tie everything together here\n",
        "def generate_weather_response(parsed_question, weather_data):\n",
        "    \"\"\"\n",
        "    Generate a natural language response to a weather question.\n",
        "\n",
        "    Args:\n",
        "        parsed_question (dict): Parsed question data\n",
        "        weather_data (dict): Weather data\n",
        "\n",
        "    Returns:\n",
        "        str: Natural language response\n",
        "    \"\"\"\n",
        "    pass"
      ]
    },
    {
      "cell_type": "markdown",
      "metadata": {
        "id": "fde44479"
      },
      "source": [
        "## 🧪 Testing and Examples"
      ]
    },
    {
      "cell_type": "code",
      "execution_count": null,
      "metadata": {
        "id": "4e573901"
      },
      "outputs": [],
      "source": [
        "# Include sample input/output for each function"
      ]
    },
    {
      "cell_type": "code",
      "source": [
        "def test_get_weather_io():\n",
        "    \"\"\"\n",
        "    Demonstrates a sample input and output for the get_weather function.\n",
        "    \"\"\"\n",
        "    location = input(\"Sample Input:\")\n",
        "    forecast_days = int(input(\"Forecast Days:\"))\n",
        "\n",
        "    print(\"Sample Output:\")\n",
        "    weather_data = get_weather_data(location, forecast_days)\n",
        "\n",
        "    if weather_data:\n",
        "        from pprint import pprint\n",
        "        pprint(weather_data)\n",
        "    else:\n",
        "        print(\"Failed to retrieve or parse weather data.\")\n",
        "\n",
        "test_get_weather_io()"
      ],
      "metadata": {
        "collapsed": true,
        "id": "a5RDV5gEa8Cf"
      },
      "execution_count": null,
      "outputs": []
    },
    {
      "cell_type": "code",
      "source": [
        "def test_data_visulaization_io():\n",
        "    \"\"\"\n",
        "    Demonstrates a sample input and output for the get_weather function.\n",
        "    \"\"\"\n",
        "    location = input(\"Sample Input:\")\n",
        "    forecast_days = int(input(\"Forecast Days:\"))\n",
        "\n",
        "    print(\"Sample Output:\")\n",
        "    weather_data = get_weather_data(location, forecast_days)\n",
        "\n",
        "    if weather_data:\n",
        "        create_temperature_visualisation(weather_data)\n",
        "        create_precipitation_visualisation(weather_data)\n",
        "    else:\n",
        "        print(\"Failed to retrieve or parse weather data.\")\n",
        "\n",
        "test_data_visulaization_io()"
      ],
      "metadata": {
        "collapsed": true,
        "id": "RIzrxfJJmaqe"
      },
      "execution_count": null,
      "outputs": []
    },
    {
      "cell_type": "code",
      "source": [
        "# test_parse_weather_question\n",
        "query = \"Will it rain this weekend in New York or next week in San Francisco?\"\n",
        "result = parse_weather_question(query)\n",
        "print(result)"
      ],
      "metadata": {
        "id": "w-FtqefVqHuq"
      },
      "execution_count": null,
      "outputs": []
    }
  ]
}