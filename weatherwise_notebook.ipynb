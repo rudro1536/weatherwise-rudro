{
  "nbformat": 4,
  "nbformat_minor": 0,
  "metadata": {
    "colab": {
      "provenance": [],
      "collapsed_sections": [
        "fa8c7f6c",
        "8a744fdc",
        "fde44479"
      ]
    },
    "kernelspec": {
      "name": "python3",
      "display_name": "Python 3"
    },
    "language_info": {
      "name": "python"
    }
  },
  "cells": [
    {
      "cell_type": "markdown",
      "metadata": {
        "id": "72e78a05"
      },
      "source": [
        "# 🌦️ WeatherWise – Built by Rudra\n",
        "\n",
        "Welcome to **WeatherWise**, a smart weather advisor app crafted by Rudra. This project leverages Python, data visualization, and AI tools to transform weather data into insightful and actionable guidance. Explore the power of intelligent forecasting with WeatherWise!\n"
      ]
    },
    {
      "cell_type": "markdown",
      "metadata": {
        "id": "fa8c7f6c"
      },
      "source": [
        "## 🧰 Setup and Imports\n"
      ]
    },
    {
      "cell_type": "code",
      "execution_count": null,
      "metadata": {
        "id": "70c3f3f1",
        "collapsed": true
      },
      "outputs": [],
      "source": [
        "# 🧪 Optional packages — uncomment if needed in Colab or JupyterHub\n",
        "!pip install fetch-my-weather\n",
        "!pip install hands-on-ai\n",
        "!pip install pyinputplus\n"
      ]
    },
    {
      "cell_type": "code",
      "source": [
        "import os\n",
        "\n",
        "os.environ['HANDS_ON_AI_SERVER'] = 'http://ollama.serveur.au'\n",
        "os.environ['HANDS_ON_AI_MODEL'] = 'granite3.2'\n",
        "os.environ['HANDS_ON_AI_API_KEY'] = input('Enter your API key: ')"
      ],
      "metadata": {
        "id": "B2JKlJfrGgIb"
      },
      "execution_count": null,
      "outputs": []
    },
    {
      "cell_type": "markdown",
      "metadata": {
        "id": "59ae7543"
      },
      "source": [
        "## 📦 Setup and Configuration\n"
      ]
    },
    {
      "cell_type": "code",
      "execution_count": 15,
      "metadata": {
        "id": "f1dd051e"
      },
      "outputs": [],
      "source": [
        "import requests\n",
        "import matplotlib.pyplot as plt\n",
        "import pyinputplus as pyip\n",
        "import re\n",
        "import json\n",
        "import numpy as np\n",
        "# ✅ Import after installing\n",
        "from fetch_my_weather import get_weather\n",
        "from hands_on_ai.chat import get_response"
      ]
    },
    {
      "cell_type": "markdown",
      "metadata": {
        "id": "f736ade3"
      },
      "source": [
        "## 🌤️ Weather Data Functions"
      ]
    },
    {
      "cell_type": "code",
      "execution_count": 53,
      "metadata": {
        "id": "7a2c7cd0"
      },
      "outputs": [],
      "source": [
        "# function to retrive weather data\n",
        "def get_weather_data(location, forecast_days=5):\n",
        "    \"\"\"\n",
        "    Retrieve weather data for a specified location.\n",
        "\n",
        "    Args:\n",
        "        location (str): City or location name\n",
        "        forecast_days (int): Number of days to forecast (1-5)\n",
        "\n",
        "    Returns:\n",
        "        dict: Weather data including current conditions and forecast, or an error message\n",
        "    \"\"\"\n",
        "    # Input validation\n",
        "    if not isinstance(location, str) or not location.strip():\n",
        "        return {\"error\": \"Invalid location. Please provide a non-empty city name.\"}\n",
        "    if not isinstance(forecast_days, int) or not (1 <= forecast_days <= 5):\n",
        "        return {\"error\": \"Forecast days must be an integer between 1 and 5.\"}\n",
        "\n",
        "    try:\n",
        "        weather = get_weather(location=location, view_options=str(forecast_days), with_metadata=False)\n",
        "        parsed_data = json.loads(weather)\n",
        "\n",
        "        current_condition = parsed_data.get(\"current_condition\", [{}])[0]\n",
        "        weather_forecast = parsed_data.get(\"weather\", [])[:forecast_days]\n",
        "\n",
        "        # Destructure and keep the relevent data from the response\n",
        "        result = {\n",
        "            \"location\": location.title(),\n",
        "            \"current\": {\n",
        "                \"temperature_C\": current_condition.get(\"temp_C\"),\n",
        "                \"weather_desc\": current_condition.get(\"weatherDesc\", [{}])[0].get(\"value\"),\n",
        "                \"humidity\": current_condition.get(\"humidity\"),\n",
        "                \"wind_kph\": current_condition.get(\"windspeedKmph\"),\n",
        "                \"feels_like_C\": current_condition.get(\"FeelsLikeC\")\n",
        "            },\n",
        "            \"forecast\": []\n",
        "        }\n",
        "\n",
        "        for day in weather_forecast:\n",
        "            result[\"forecast\"].append({\n",
        "                \"date\": day.get(\"date\"),\n",
        "                \"max_temp_C\": day.get(\"maxtempC\"),\n",
        "                \"max_temp_F\": day.get(\"maxtempF\"),\n",
        "                \"min_temp_C\": day.get(\"mintempC\"),\n",
        "                \"min_temp_F\": day.get(\"mintempF\"),\n",
        "                \"avg_temp_C\": day.get(\"avgtempC\"),\n",
        "                \"avg_temp_F\": day.get(\"avgtempF\"),\n",
        "                \"sun_hour\": day.get(\"sunHour\"),\n",
        "                \"total_Snow_cm\": day.get(\"totalSnow_cm\"),\n",
        "                \"uv_index\": day.get(\"uvIndex\"),\n",
        "                \"description\": day.get(\"hourly\", [{}])[0].get(\"weatherDesc\", [{}])[0].get(\"value\")\n",
        "            })\n",
        "\n",
        "        return result\n",
        "\n",
        "    except Exception as e:\n",
        "        return {\"error\": f\"Failed to retrieve weather data: {str(e)}\"}\n"
      ]
    },
    {
      "cell_type": "markdown",
      "metadata": {
        "id": "8a744fdc"
      },
      "source": [
        "## 📊 Visualisation Functions"
      ]
    },
    {
      "cell_type": "code",
      "execution_count": 11,
      "metadata": {
        "id": "9dc3bf85"
      },
      "outputs": [],
      "source": [
        "def temperature_visualisation(weather_data):\n",
        "    dates = [f['date'] for f in weather_data['forecast']]\n",
        "    min_temps = [f['min_temp_C'] for f in weather_data['forecast']]\n",
        "    avg_temps = [f['avg_temp_C'] for f in weather_data['forecast']]\n",
        "    max_temps = [f['max_temp_C'] for f in weather_data['forecast']]\n",
        "\n",
        "    plt.figure(figsize=(8, 5))\n",
        "    plt.plot(dates, min_temps, marker='o', label='Min Temp (°C)', color='skyblue')\n",
        "    plt.plot(dates, avg_temps, marker='o', label='Avg Temp (°C)', color='orange')\n",
        "    plt.plot(dates, max_temps, marker='o', label='Max Temp (°C)', color='red')\n",
        "\n",
        "    plt.title(f\"Daily Temperature Trends in {weather_data['location']}\")\n",
        "    plt.xlabel(\"Date\")\n",
        "    plt.ylabel(\"Temperature (°C)\")\n",
        "    plt.legend()\n",
        "    plt.grid(True)\n",
        "    plt.tight_layout()\n",
        "    plt.show()\n"
      ]
    },
    {
      "cell_type": "code",
      "source": [
        "\n",
        "def sun_uv_visualisation(weather_data, output_type='display'):\n",
        "    dates = [f['date'] for f in weather_data['forecast']]\n",
        "    sun_hours = [f['sun_hour'] for f in weather_data['forecast']]\n",
        "    uv_indices = [f['uv_index'] for f in weather_data['forecast']]\n",
        "\n",
        "    x = np.arange(len(dates))\n",
        "    width = 0.35\n",
        "\n",
        "    fig, ax = plt.subplots(figsize=(8, 5))\n",
        "    ax.bar(x - width/2, sun_hours, width, label='Sun Hours', color='gold')\n",
        "    ax.bar(x + width/2, uv_indices, width, label='UV Index', color='purple')\n",
        "\n",
        "    ax.set_title(f\"Sunlight and UV Index Forecast in {weather_data['location']}\")\n",
        "    ax.set_xlabel(\"Date\")\n",
        "    ax.set_ylabel(\"Value\")\n",
        "    ax.set_xticks(x)\n",
        "    ax.set_xticklabels(dates)\n",
        "    ax.legend()\n",
        "    ax.grid(True, axis='y')\n",
        "    plt.tight_layout()\n",
        "    plt.show()"
      ],
      "metadata": {
        "id": "HpOlQylYG5Ho"
      },
      "execution_count": 13,
      "outputs": []
    },
    {
      "cell_type": "markdown",
      "metadata": {
        "id": "9f95d160"
      },
      "source": [
        "## 🤖 Natural Language Processing"
      ]
    },
    {
      "cell_type": "code",
      "execution_count": 54,
      "metadata": {
        "id": "bcc5833e"
      },
      "outputs": [],
      "source": [
        "import spacy\n",
        "\n",
        "nlp = spacy.load(\"en_core_web_sm\")\n",
        "\n",
        "TIME_PERIODS = {\n",
        "    \"now\", \"right now\", \"currently\", \"today\", \"tonight\", \"this morning\", \"this afternoon\", \"this evening\",\n",
        "    \"tomorrow\", \"tomorrow morning\", \"tomorrow afternoon\", \"tomorrow evening\",\n",
        "    \"day after tomorrow\", \"the day after tomorrow\",\n",
        "    \"weekend\", \"this weekend\", \"next weekend\",\n",
        "    \"next week\", \"this week\",\n",
        "    \"next month\", \"this month\",\n",
        "    \"in an hour\", \"in 1 hour\", \"in 2 hours\", \"in 3 hours\",\n",
        "    \"hourly\", \"daily\", \"weekly\", \"monthly\"\n",
        "}\n",
        "\n",
        "WEATHER_ATTRIBUTES = {\n",
        "    \"temperature\", \"rain\", \"rainfall\", \"humidity\", \"wind\", \"wind speed\",\n",
        "    \"snow\", \"snowfall\", \"sunshine\", \"sun\", \"cloud\", \"cloudiness\", \"uv index\", \"pressure\"\n",
        "}\n",
        "\n",
        "def parse_weather_question(question):\n",
        "    \"\"\"\n",
        "    Parse a natural language weather question.\n",
        "\n",
        "    Args:\n",
        "        question (str): User's weather-related question\n",
        "\n",
        "    Returns:\n",
        "        dict: Extracted information including location, time period, and weather attribute\n",
        "    \"\"\"\n",
        "    question_lower = question.lower()\n",
        "    doc = nlp(question_lower)\n",
        "\n",
        "    locations = [ent.text for ent in doc.ents if ent.label_ == \"GPE\"]\n",
        "    time_periods = [tp for tp in TIME_PERIODS if tp in question_lower]\n",
        "    attributes = [attr for attr in WEATHER_ATTRIBUTES if attr in question_lower]\n",
        "\n",
        "    return {\n",
        "        \"locations\": locations,\n",
        "        \"time_periods\": time_periods,\n",
        "        \"weather_attributes\": attributes\n",
        "    }"
      ]
    },
    {
      "cell_type": "markdown",
      "metadata": {
        "id": "d643a53c"
      },
      "source": [
        "## 🧩 Main Application Logic"
      ]
    },
    {
      "cell_type": "code",
      "execution_count": 55,
      "metadata": {
        "id": "a9e2e805"
      },
      "outputs": [],
      "source": [
        "# Tie everything together here\n",
        "def generate_weather_response(question):\n",
        "    \"\"\"\n",
        "    Handle a weather-related question and return the weather data.\n",
        "\n",
        "    Args:\n",
        "        question (str): The user's natural language weather question.\n",
        "\n",
        "    Returns:\n",
        "        dict: Weather information or an error message.\n",
        "    \"\"\"\n",
        "    parsed = parse_weather_question(question)\n",
        "\n",
        "    locations = parsed.get(\"locations\")\n",
        "    time_periods = parsed.get(\"time_periods\", [])\n",
        "\n",
        "    # Fallback if no location is found\n",
        "    if not locations:\n",
        "        return {\"error\": \"Could not identify a location in your question.\"}\n",
        "\n",
        "    location = locations[0]\n",
        "\n",
        "    # Determine forecast days based on time_periods\n",
        "    forecast_days = 1  # default: today only\n",
        "    if any(tp in time_periods for tp in [\"tomorrow\", \"tomorrow morning\", \"tomorrow afternoon\", \"tomorrow evening\"]):\n",
        "        forecast_days = 2\n",
        "    elif any(tp in time_periods for tp in [\"day after tomorrow\", \"the day after tomorrow\"]):\n",
        "        forecast_days = 3\n",
        "    elif any(tp in time_periods for tp in [\"this week\", \"next week\", \"weekend\", \"next weekend\"]):\n",
        "        forecast_days = 5\n",
        "\n",
        "    return {\n",
        "        \"parsed\": parsed,\n",
        "        \"weather_data\": get_weather_data(location, forecast_days=forecast_days)\n",
        "    }"
      ]
    },
    {
      "cell_type": "markdown",
      "metadata": {
        "id": "0d85225e"
      },
      "source": [
        "## 🧭 User Interface"
      ]
    },
    {
      "cell_type": "code",
      "source": [
        "def handle_weather_query():\n",
        "  while 1:\n",
        "    question = pyip.inputStr(prompt=\"Your Query:\", blank=True)\n",
        "    if question == 'exit':\n",
        "      break\n",
        "    parsed_data = generate_weather_response(question)\n",
        "    response = get_response(f\"Generate answer in natural language where data is {parsed_data}\")\n",
        "    print(response)"
      ],
      "metadata": {
        "collapsed": true,
        "id": "ihjvOZuvHpnI"
      },
      "execution_count": null,
      "outputs": []
    },
    {
      "cell_type": "markdown",
      "metadata": {
        "id": "fde44479"
      },
      "source": [
        "## 🧪 Testing and Examples"
      ]
    },
    {
      "cell_type": "code",
      "source": [
        "def test_get_weather_io():\n",
        "    \"\"\"\n",
        "    Demonstrates a sample input and output for the get_weather function.\n",
        "    \"\"\"\n",
        "    location = input(\"Sample Input:\")\n",
        "    forecast_days = int(input(\"Forecast Days:\"))\n",
        "\n",
        "    print(\"Sample Output:\")\n",
        "    weather_data = get_weather_data(location, forecast_days)\n",
        "\n",
        "    if weather_data:\n",
        "        from pprint import pprint\n",
        "        pprint(weather_data)\n",
        "    else:\n",
        "        print(\"Failed to retrieve or parse weather data.\")\n",
        "\n",
        "test_get_weather_io()"
      ],
      "metadata": {
        "collapsed": true,
        "id": "a5RDV5gEa8Cf"
      },
      "execution_count": null,
      "outputs": []
    },
    {
      "cell_type": "code",
      "source": [
        "def test_data_visulaization_io():\n",
        "    \"\"\"\n",
        "    Demonstrates a sample input and output for the get_weather function.\n",
        "    \"\"\"\n",
        "    location = input(\"Sample Input:\")\n",
        "    forecast_days = int(input(\"Forecast Days:\"))\n",
        "\n",
        "    print(\"Sample Output:\")\n",
        "    weather_data = get_weather_data(location, forecast_days)\n",
        "\n",
        "    if weather_data:\n",
        "        temperature_visualisation(weather_data)\n",
        "        sun_uv_visualisation(weather_data)\n",
        "    else:\n",
        "        print(\"Failed to retrieve or parse weather data.\")\n",
        "\n",
        "test_data_visulaization_io()"
      ],
      "metadata": {
        "collapsed": true,
        "id": "RIzrxfJJmaqe"
      },
      "execution_count": null,
      "outputs": []
    },
    {
      "cell_type": "code",
      "source": [
        "# test_parse_weather_question\n",
        "query = \"Will it rain this weekend in New York or next week in San Francisco?\"\n",
        "result = parse_weather_question(query)\n",
        "print(result)"
      ],
      "metadata": {
        "id": "w-FtqefVqHuq"
      },
      "execution_count": null,
      "outputs": []
    },
    {
      "cell_type": "code",
      "source": [
        "# test AI chat\n",
        "# type 'exit' in the input to terminate the process\n",
        "handle_weather_query()"
      ],
      "metadata": {
        "collapsed": true,
        "id": "fR3r9HLCZO9r"
      },
      "execution_count": null,
      "outputs": []
    },
    {
      "cell_type": "code",
      "source": [],
      "metadata": {
        "id": "KLVOjpBYZRki"
      },
      "execution_count": null,
      "outputs": []
    }
  ]
}